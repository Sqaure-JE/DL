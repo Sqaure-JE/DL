{
 "cells": [
  {
   "cell_type": "code",
   "execution_count": 1,
   "id": "aa02e473",
   "metadata": {},
   "outputs": [
    {
     "name": "stdout",
     "output_type": "stream",
     "text": [
      "Epoch 1/10\n",
      "25/25 [==============================] - 6s 50ms/step - loss: 0.1207 - mae: 0.2884 - val_loss: 0.0928 - val_mae: 0.2618\n",
      "Epoch 2/10\n",
      "25/25 [==============================] - 0s 10ms/step - loss: 0.0922 - mae: 0.2604 - val_loss: 0.0888 - val_mae: 0.2582\n",
      "Epoch 3/10\n",
      "25/25 [==============================] - 0s 14ms/step - loss: 0.0893 - mae: 0.2563 - val_loss: 0.0883 - val_mae: 0.2579\n",
      "Epoch 4/10\n",
      "25/25 [==============================] - 0s 13ms/step - loss: 0.0889 - mae: 0.2556 - val_loss: 0.0879 - val_mae: 0.2570\n",
      "Epoch 5/10\n",
      "25/25 [==============================] - 0s 15ms/step - loss: 0.0878 - mae: 0.2533 - val_loss: 0.0874 - val_mae: 0.2570\n",
      "Epoch 6/10\n",
      "25/25 [==============================] - 0s 10ms/step - loss: 0.0858 - mae: 0.2509 - val_loss: 0.0872 - val_mae: 0.2568\n",
      "Epoch 7/10\n",
      "25/25 [==============================] - 0s 10ms/step - loss: 0.0841 - mae: 0.2486 - val_loss: 0.0874 - val_mae: 0.2570\n",
      "Epoch 8/10\n",
      "25/25 [==============================] - 0s 9ms/step - loss: 0.0837 - mae: 0.2476 - val_loss: 0.0877 - val_mae: 0.2575\n",
      "Epoch 9/10\n",
      "25/25 [==============================] - 0s 10ms/step - loss: 0.0832 - mae: 0.2465 - val_loss: 0.0895 - val_mae: 0.2586\n",
      "Epoch 10/10\n",
      "25/25 [==============================] - 0s 14ms/step - loss: 0.0824 - mae: 0.2460 - val_loss: 0.0881 - val_mae: 0.2570\n",
      "32/32 [==============================] - 0s 4ms/step - loss: 0.0828 - mae: 0.2465\n",
      "Loss (MSE): 0.0828\n",
      "Mean Absolute Error (MAE): 0.2465\n"
     ]
    }
   ],
   "source": [
    "import numpy as np\n",
    "import tensorflow as tf\n",
    "from tensorflow.keras.models import Sequential\n",
    "from tensorflow.keras.layers import Dense\n",
    "\n",
    "# 샘플 데이터\n",
    "X = np.random.rand(1000, 10)\n",
    "y = np.random.rand(1000)\n",
    "\n",
    "# DNN 모델 생성 및 학습\n",
    "model = Sequential([\n",
    "    Dense(64, activation='relu', input_shape=(10,)),\n",
    "    Dense(32, activation='relu'),\n",
    "    Dense(1)\n",
    "])\n",
    "\n",
    "model.compile(optimizer='adam', loss='mse', metrics=['mae'])\n",
    "model.fit(X, y, epochs=10, batch_size=32, validation_split=0.2)\n",
    "\n",
    "loss, mae = model.evaluate(X, y)\n",
    "print(f\"Loss (MSE): {loss:.4f}\")\n",
    "print(f\"Mean Absolute Error (MAE): {mae:.4f}\")"
   ]
  },
  {
   "cell_type": "code",
   "execution_count": null,
   "id": "2747133e",
   "metadata": {},
   "outputs": [],
   "source": []
  }
 ],
 "metadata": {
  "kernelspec": {
   "display_name": "Python 3 (ipykernel)",
   "language": "python",
   "name": "python3"
  },
  "language_info": {
   "codemirror_mode": {
    "name": "ipython",
    "version": 3
   },
   "file_extension": ".py",
   "mimetype": "text/x-python",
   "name": "python",
   "nbconvert_exporter": "python",
   "pygments_lexer": "ipython3",
   "version": "3.9.12"
  }
 },
 "nbformat": 4,
 "nbformat_minor": 5
}
